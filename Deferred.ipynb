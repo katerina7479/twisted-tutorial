{
 "cells": [
  {
   "cell_type": "markdown",
   "metadata": {},
   "source": [
    "We are doing several unconventional things here. We are hooking up Jupyter and Twisted so that the so-called \"Python kernel\" will be able to run at the same time with the Twisted event loop. We are also running Klein in a way that allows us to interactively add to the route table. For both of those reasons, we need to do some \"magical set-up\". Note that for running Klein outside of a Jupyter notebook, with the usual workflow for developing a web-app (i.e., \"run, CTRL-C, make changes, run\"), this prelude is replaced by\n",
    "\n",
    "    from klein import run, route\n",
    "    @route('/')\n",
    "    def home(request):\n",
    "        return 'Hello, world!'\n",
    "    run(\"localhost\", 8080)"
   ]
  },
  {
   "cell_type": "code",
   "execution_count": 1,
   "metadata": {
    "collapsed": true
   },
   "outputs": [],
   "source": [
    "from __future__ import print_function\n",
    "from tornado.platform.twisted import install\n",
    "install()\n",
    "from twisted.internet import reactor\n",
    "from klein import route, resource\n",
    "from twisted.web.server import Site\n",
    "from twisted.internet.endpoints import TCP4ServerEndpoint\n",
    "from twisted.internet import defer\n",
    "from twisted.python import log\n",
    "\n",
    "lport, endpoint = [], TCP4ServerEndpoint(reactor, 8080)\n",
    "def listen():\n",
    "    if lport:\n",
    "        port = lport.pop()\n",
    "        d = port.stopListening()\n",
    "    else:\n",
    "        d = defer.succeed(None)\n",
    "    def actuallyListen(dummy):\n",
    "        s = Site(resource())\n",
    "        return endpoint.listen(Site(resource()))\n",
    "    def finishedListening(port):\n",
    "        lport.append(port)\n",
    "        print(\"Ready to serve web requests on {}\".format(port))\n",
    "    d.addCallback(actuallyListen)\n",
    "    d.addCallback(finishedListening)"
   ]
  },
  {
   "cell_type": "code",
   "execution_count": 2,
   "metadata": {
    "collapsed": false
   },
   "outputs": [
    {
     "name": "stdout",
     "output_type": "stream",
     "text": [
      "Ready to serve web requests on <<class 'twisted.internet.tcp.Port'> of twisted.web.server.Site on 8080>\n"
     ]
    }
   ],
   "source": [
    "@route('/')\n",
    "def home(request):\n",
    "    return 'Hello, world!'\n",
    "listen()"
   ]
  },
  {
   "cell_type": "code",
   "execution_count": 3,
   "metadata": {
    "collapsed": false
   },
   "outputs": [
    {
     "name": "stdout",
     "output_type": "stream",
     "text": [
      "Ready to serve web requests on <<class 'twisted.internet.tcp.Port'> of twisted.web.server.Site on 8080>\n"
     ]
    }
   ],
   "source": [
    "@route('/lala')\n",
    "def thingy(request):\n",
    "    return 'lolo'\n",
    "listen()"
   ]
  },
  {
   "cell_type": "code",
   "execution_count": null,
   "metadata": {
    "collapsed": true
   },
   "outputs": [],
   "source": []
  }
 ],
 "metadata": {
  "kernelspec": {
   "display_name": "Python 2",
   "language": "python",
   "name": "python2"
  },
  "language_info": {
   "codemirror_mode": {
    "name": "ipython",
    "version": 2
   },
   "file_extension": ".py",
   "mimetype": "text/x-python",
   "name": "python",
   "nbconvert_exporter": "python",
   "pygments_lexer": "ipython2",
   "version": "2.7.12"
  }
 },
 "nbformat": 4,
 "nbformat_minor": 1
}