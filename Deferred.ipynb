{
 "cells": [
  {
   "cell_type": "code",
   "execution_count": 1,
   "metadata": {
    "collapsed": false
   },
   "outputs": [],
   "source": [
    "import txjupyter\n",
    "reactor = txjupyter.start()\n",
    "txjupyter.klein(reactor, 'tcp:port=8080')"
   ]
  },
  {
   "cell_type": "code",
   "execution_count": 4,
   "metadata": {
    "collapsed": false
   },
   "outputs": [],
   "source": [
    "from klein import route\n",
    "@route('/')\n",
    "def home(request):\n",
    "    return 'Hello, world!'"
   ]
  },
  {
   "cell_type": "code",
   "execution_count": 5,
   "metadata": {
    "collapsed": true
   },
   "outputs": [],
   "source": [
    "@route('/greet/<user>')\n",
    "def froop(request, user):\n",
    "    return 'Hello {}!'.format(user)"
   ]
  },
  {
   "cell_type": "code",
   "execution_count": 6,
   "metadata": {
    "collapsed": false
   },
   "outputs": [],
   "source": [
    "import json\n",
    "from twisted.internet import defer\n",
    "import treq\n",
    "\n",
    "@route('/ip')\n",
    "@defer.inlineCallbacks\n",
    "def getip(request):\n",
    "    url = 'http://httpbin.org/ip'\n",
    "    response = yield treq.get(url)\n",
    "    content = yield response.content()\n",
    "    value = json.loads(content)\n",
    "    ip = value['origin']\n",
    "    defer.returnValue('From {}'.format(ip))"
   ]
  },
  {
   "cell_type": "code",
   "execution_count": 7,
   "metadata": {
    "collapsed": false
   },
   "outputs": [],
   "source": [
    "@route('/slow')\n",
    "@defer.inlineCallbacks\n",
    "def slow(request):\n",
    "    url = 'http://httpbin.org/delay/10'\n",
    "    response = yield treq.get(url)\n",
    "    content = yield response.content()\n",
    "    value = json.loads(content)\n",
    "    first_ip = value['origin']\n",
    "    response = yield treq.get(url)\n",
    "    content = yield response.content()\n",
    "    value = json.loads(content)\n",
    "    second_ip = value['origin']    \n",
    "    defer.returnValue('These are the same:{}=={}'.format(first_ip, second_ip))"
   ]
  },
  {
   "cell_type": "code",
   "execution_count": 8,
   "metadata": {
    "collapsed": false
   },
   "outputs": [],
   "source": [
    "@route('/less-slow')\n",
    "def less_slow(request):\n",
    "    url = 'http://httpbin.org/delay/10'\n",
    "    d = treq.get(url)\n",
    "    d.addCallback(lambda response: response.content())\n",
    "    d.addCallback(json.loads)\n",
    "    d.addCallback(lambda dct: dct['origin'])\n",
    "    d2 = treq.get(url)\n",
    "    d2.addCallback(lambda response: response.content())\n",
    "    d2.addCallback(json.loads)\n",
    "    d2.addCallback(lambda dct: dct['origin'])\n",
    "    both = defer.gatherResults([d, d2])\n",
    "    def do_format(ips):\n",
    "        first_ip, second_ip = ips\n",
    "        return 'These are the same:{}=={}'.format(first_ip, second_ip)\n",
    "    both.addCallback(do_format)\n",
    "    return both"
   ]
  },
  {
   "cell_type": "code",
   "execution_count": 10,
   "metadata": {
    "collapsed": false
   },
   "outputs": [],
   "source": [
    "from twisted.internet import task\n",
    "import operator\n",
    "\n",
    "@route('/add/<int:a>/<int:b>')\n",
    "def add(request, a, b):\n",
    "    d = task.deferLater(reactor, 2, operator.add, a, b)\n",
    "    d.addCallback(str)\n",
    "    return d"
   ]
  },
  {
   "cell_type": "code",
   "execution_count": 11,
   "metadata": {
    "collapsed": false
   },
   "outputs": [],
   "source": [
    "def remote_add(x, y):\n",
    "    url = 'http://localhost:8080/add'\n",
    "    d = treq.get(url + '/{}/{}'.format(x, y))\n",
    "    d.addCallback(lambda response: response.content())\n",
    "    return d\n",
    "\n",
    "@route('/add4/<int:a>/<int:b>/<int:c>/<int:d>')\n",
    "def add4(request, a, b, c, d):\n",
    "    d = defer.gatherResults([remote_add(a, b), \n",
    "                             remote_add(c, d)])\n",
    "    @d.addCallback\n",
    "    def final_add(results):\n",
    "        x, y = results\n",
    "        return remote_add(x, y)\n",
    "    return d\n",
    "\n",
    "@route('/slow-add4/<int:a>/<int:b>/<int:c>/<int:d>')\n",
    "@defer.inlineCallbacks\n",
    "def slow_add4(request, a, b, c, d):\n",
    "    x = yield remote_add(a, b)\n",
    "    y = yield remote_add(c, d)\n",
    "    res = yield remote_add(x, y)\n",
    "    return str(res)"
   ]
  },
  {
   "cell_type": "code",
   "execution_count": null,
   "metadata": {
    "collapsed": true
   },
   "outputs": [],
   "source": []
  }
 ],
 "metadata": {
  "kernelspec": {
   "display_name": "Python 2",
   "language": "python",
   "name": "python2"
  },
  "language_info": {
   "codemirror_mode": {
    "name": "ipython",
    "version": 2
   },
   "file_extension": ".py",
   "mimetype": "text/x-python",
   "name": "python",
   "nbconvert_exporter": "python",
   "pygments_lexer": "ipython2",
   "version": "2.7.10"
  }
 },
 "nbformat": 4,
 "nbformat_minor": 1
}