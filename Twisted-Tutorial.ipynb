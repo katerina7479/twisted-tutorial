{
 "cells": [
  {
   "cell_type": "markdown",
   "metadata": {},
   "source": [
    "# Before We Begin\n",
    "\n",
    "You will need:\n",
    "  1. a virtualenv\n",
    "  2. Jupyter notebook running a kernel in that virtualenv\n",
    "  3. Klein and Treq (and therefore Twisted) installed in that kernel\n",
    "\n",
    "To get those:\n",
    "\n",
    "```console\n",
    "$ virtualenv abc\n",
    "$ . abc/bin/activate\n",
    "$ pip install jupyter[notebook] klein treq\n",
    "$ jupyter notebook Twisted-Tutorial.ipynb\n",
    "```"
   ]
  },
  {
   "cell_type": "code",
   "execution_count": 1,
   "metadata": {
    "collapsed": false
   },
   "outputs": [
    {
     "data": {
      "text/plain": [
       "<Deferred at 0x10966da28 current result: <<class 'twisted.internet.tcp.Port'> of twisted.web.server.Site on 8080>>"
      ]
     },
     "execution_count": 1,
     "metadata": {},
     "output_type": "execute_result"
    }
   ],
   "source": [
    "from tornado.platform.twisted import install\n",
    "reactor = install()\n",
    "\n",
    "from twisted.web.server import Site\n",
    "from twisted.internet import endpoints\n",
    "from klein import route, resource\n",
    "\n",
    "description = \"tcp:8080\"\n",
    "\n",
    "ep = endpoints.serverFromString(reactor, description)\n",
    "s = Site(resource())\n",
    "ep.listen(Site(resource()))"
   ]
  },
  {
   "cell_type": "code",
   "execution_count": 2,
   "metadata": {
    "collapsed": false
   },
   "outputs": [],
   "source": [
    "from klein import route\n",
    "@route('/')\n",
    "def home(request):\n",
    "    return 'Hello, everybody!'"
   ]
  },
  {
   "cell_type": "code",
   "execution_count": 6,
   "metadata": {
    "collapsed": true
   },
   "outputs": [],
   "source": [
    "@route('/greet/<user>')\n",
    "def froop(request, user):\n",
    "    return 'Hello {}! Nice to meet you.'.format(user.capitalize())"
   ]
  },
  {
   "cell_type": "code",
   "execution_count": 8,
   "metadata": {
    "collapsed": false
   },
   "outputs": [],
   "source": [
    "import json\n",
    "from twisted.internet import defer\n",
    "import treq\n",
    "\n",
    "@route('/ip')\n",
    "@defer.inlineCallbacks\n",
    "def getip(request):\n",
    "    url = 'https://httpbin.org/ip'\n",
    "    response = yield treq.get(url)\n",
    "    content = yield response.content()\n",
    "    value = json.loads(content)\n",
    "    ip = value['origin']\n",
    "    defer.returnValue('Your ip is: {}'.format(ip))"
   ]
  },
  {
   "cell_type": "code",
   "execution_count": 9,
   "metadata": {
    "collapsed": false
   },
   "outputs": [
    {
     "data": {
      "text/plain": [
       "True"
      ]
     },
     "execution_count": 9,
     "metadata": {},
     "output_type": "execute_result"
    }
   ],
   "source": [
    "import webbrowser\n",
    "webbrowser.open(\"http://127.0.0.1:8080/ip\")"
   ]
  },
  {
   "cell_type": "code",
   "execution_count": 10,
   "metadata": {
    "collapsed": false
   },
   "outputs": [],
   "source": [
    "@route('/compare')\n",
    "@defer.inlineCallbacks\n",
    "def compare(request):\n",
    "    url = 'https://httpbin.org/delay/10'\n",
    "    response = yield treq.get(url)\n",
    "    content = yield response.content()\n",
    "    value = json.loads(content)\n",
    "    first_ip = value['origin']\n",
    "    response = yield treq.get(url)\n",
    "    content = yield response.content()\n",
    "    value = json.loads(content)\n",
    "    second_ip = value['origin']    \n",
    "    defer.returnValue('These are the same:{}=={}'.format(first_ip, second_ip))"
   ]
  },
  {
   "cell_type": "code",
   "execution_count": 11,
   "metadata": {
    "collapsed": false
   },
   "outputs": [
    {
     "data": {
      "text/plain": [
       "True"
      ]
     },
     "execution_count": 11,
     "metadata": {},
     "output_type": "execute_result"
    }
   ],
   "source": [
    "webbrowser.open(\"http://127.0.0.1:8080/compare\")"
   ]
  },
  {
   "cell_type": "code",
   "execution_count": 12,
   "metadata": {
    "collapsed": false
   },
   "outputs": [],
   "source": [
    "@route('/faster-compare')\n",
    "def faster_compare(request):\n",
    "    url = 'https://httpbin.org/delay/10'\n",
    "    d = treq.get(url)\n",
    "    d.addCallback(lambda response: response.content())\n",
    "    d.addCallback(json.loads)\n",
    "    d.addCallback(lambda dct: dct['origin'])\n",
    "    d2 = treq.get(url)\n",
    "    d2.addCallback(lambda response: response.content())\n",
    "    d2.addCallback(json.loads)\n",
    "    d2.addCallback(lambda dct: dct['origin'])\n",
    "    both = defer.gatherResults([d, d2])\n",
    "    def do_format(ips):\n",
    "        first_ip, second_ip = ips\n",
    "        return 'These are the same:{}=={}'.format(first_ip, second_ip)\n",
    "    both.addCallback(do_format)\n",
    "    return both"
   ]
  },
  {
   "cell_type": "code",
   "execution_count": 13,
   "metadata": {
    "collapsed": false
   },
   "outputs": [
    {
     "data": {
      "text/plain": [
       "True"
      ]
     },
     "execution_count": 13,
     "metadata": {},
     "output_type": "execute_result"
    }
   ],
   "source": [
    "webbrowser.open(\"http://127.0.0.1:8080/faster-compare\")"
   ]
  },
  {
   "cell_type": "code",
   "execution_count": 28,
   "metadata": {
    "collapsed": false
   },
   "outputs": [],
   "source": [
    "from twisted.internet import task\n",
    "import operator\n",
    "\n",
    "@route('/add/<int:a>/<int:b>')\n",
    "def add(request, a, b):\n",
    "    d = task.deferLater(reactor, 2, operator.add, a, b)\n",
    "    # deferLater does not block like time.sleep does\n",
    "    # reactor, delay(sec), operator, args...\n",
    "    # Simulate a delay\n",
    "    d.addCallback(str)\n",
    "    return d"
   ]
  },
  {
   "cell_type": "code",
   "execution_count": 24,
   "metadata": {
    "collapsed": false
   },
   "outputs": [
    {
     "data": {
      "text/plain": [
       "True"
      ]
     },
     "execution_count": 24,
     "metadata": {},
     "output_type": "execute_result"
    }
   ],
   "source": [
    "webbrowser.open(\"http://127.0.0.1:8080/add/3/4\")"
   ]
  },
  {
   "cell_type": "code",
   "execution_count": 29,
   "metadata": {
    "collapsed": false
   },
   "outputs": [],
   "source": [
    "def remote_add(x, y):\n",
    "    url = 'http://localhost:8080/add'\n",
    "    d = treq.get(url + '/{}/{}'.format(x, y))\n",
    "    d.addCallback(lambda response: response.content())\n",
    "    return d\n",
    "\n",
    "@route('/add4/<int:a>/<int:b>/<int:c>/<int:d>')\n",
    "def add4(request, a, b, c, d):\n",
    "    d = defer.gatherResults([remote_add(a, b), \n",
    "                             remote_add(c, d)])\n",
    "    @d.addCallback\n",
    "    def final_add(results):\n",
    "        x, y = results\n",
    "        return remote_add(x, y)\n",
    "    return d\n",
    "\n",
    "@route('/slow-add4/<int:a>/<int:b>/<int:c>/<int:d>')\n",
    "@defer.inlineCallbacks\n",
    "def slow_add4(request, a, b, c, d):\n",
    "    x = yield remote_add(a, b)\n",
    "    y = yield remote_add(c, d)\n",
    "    res = yield remote_add(x, y)\n",
    "    defer.returnValue(str(res))"
   ]
  },
  {
   "cell_type": "code",
   "execution_count": 30,
   "metadata": {
    "collapsed": false
   },
   "outputs": [
    {
     "data": {
      "text/plain": [
       "True"
      ]
     },
     "execution_count": 30,
     "metadata": {},
     "output_type": "execute_result"
    }
   ],
   "source": [
    "webbrowser.open(\"http://127.0.0.1:8080/add4/3/4/9/14\")\n",
    "webbrowser.open(\"http://127.0.0.1:8080/slow-add4/3/4/9/14\")"
   ]
  },
  {
   "cell_type": "code",
   "execution_count": 31,
   "metadata": {
    "collapsed": true
   },
   "outputs": [],
   "source": [
    "counter = 0\n",
    "@route('/count')\n",
    "def count(request):\n",
    "    global counter\n",
    "    counter += 1\n",
    "    return str(counter)\n",
    "# Cache parallel, redirect to where the data is already"
   ]
  },
  {
   "cell_type": "code",
   "execution_count": 35,
   "metadata": {
    "collapsed": false
   },
   "outputs": [
    {
     "data": {
      "text/plain": [
       "True"
      ]
     },
     "execution_count": 35,
     "metadata": {},
     "output_type": "execute_result"
    }
   ],
   "source": [
    "webbrowser.open(\"http://127.0.0.1:8080/count\")\n",
    "webbrowser.open(\"http://127.0.0.1:8080/count\")\n",
    "webbrowser.open(\"http://127.0.0.1:8080/count\")"
   ]
  },
  {
   "cell_type": "code",
   "execution_count": 40,
   "metadata": {
    "collapsed": false
   },
   "outputs": [],
   "source": [
    "from twisted.internet import task\n",
    "loops = 0\n",
    "def add_loop():\n",
    "    global loops\n",
    "    loops += 1\n",
    "\n",
    "@route('/loops')\n",
    "def show_loops(request):\n",
    "    return str(loops)\n",
    "\n",
    "lc = task.LoopingCall(add_loop)\n",
    "d = lc.start(1)\n",
    "# Could be a simple celery-like runner"
   ]
  },
  {
   "cell_type": "code",
   "execution_count": 41,
   "metadata": {
    "collapsed": false
   },
   "outputs": [
    {
     "data": {
      "text/plain": [
       "<tornado.platform.twisted.TornadoDelayedCall at 0x1098f6b50>"
      ]
     },
     "execution_count": 41,
     "metadata": {},
     "output_type": "execute_result"
    }
   ],
   "source": [
    "reactor.callLater(6, webbrowser.open, \"http://127.0.0.1:8080/loops\")\n",
    "reactor.callLater(12, webbrowser.open, \"http://127.0.0.1:8080/loops\")"
   ]
  },
  {
   "cell_type": "code",
   "execution_count": 65,
   "metadata": {
    "collapsed": false
   },
   "outputs": [],
   "source": [
    "# Chat server\n",
    "blocking = []\n",
    "\n",
    "@route('/block')\n",
    "def block(request):\n",
    "    result = defer.Deferred()\n",
    "    blocking.append(result)\n",
    "    result.addCallback(lambda x: x.upper())\n",
    "    return result\n",
    "\n",
    "@route('/unblock/<string:value>')\n",
    "def unblock(request, value):\n",
    "    blocking.pop(0).callback(value)\n",
    "    return u\"OK \" + value\n",
    "\n",
    "@route('/block_length')\n",
    "def blocking_resp(request):\n",
    "    return 'The length of blocking is {}'.format(len(blocking))\n"
   ]
  },
  {
   "cell_type": "code",
   "execution_count": 68,
   "metadata": {
    "collapsed": false
   },
   "outputs": [
    {
     "data": {
      "text/plain": [
       "True"
      ]
     },
     "execution_count": 68,
     "metadata": {},
     "output_type": "execute_result"
    }
   ],
   "source": [
    "webbrowser.open(\"http://127.0.0.1:8080/block\")"
   ]
  },
  {
   "cell_type": "code",
   "execution_count": 61,
   "metadata": {
    "collapsed": false
   },
   "outputs": [
    {
     "data": {
      "text/plain": [
       "True"
      ]
     },
     "execution_count": 61,
     "metadata": {},
     "output_type": "execute_result"
    }
   ],
   "source": [
    "webbrowser.open(\"http://127.0.0.1:8080/unblock/python%20works\")"
   ]
  },
  {
   "cell_type": "code",
   "execution_count": 67,
   "metadata": {
    "collapsed": false
   },
   "outputs": [
    {
     "data": {
      "text/plain": [
       "True"
      ]
     },
     "execution_count": 67,
     "metadata": {},
     "output_type": "execute_result"
    }
   ],
   "source": [
    "webbrowser.open('http://127.0.0.1:8080/block_length')"
   ]
  },
  {
   "cell_type": "code",
   "execution_count": null,
   "metadata": {
    "collapsed": true
   },
   "outputs": [],
   "source": []
  }
 ],
 "metadata": {
  "kernelspec": {
   "display_name": "Python 2",
   "language": "python",
   "name": "python2"
  },
  "language_info": {
   "codemirror_mode": {
    "name": "ipython",
    "version": 2
   },
   "file_extension": ".py",
   "mimetype": "text/x-python",
   "name": "python",
   "nbconvert_exporter": "python",
   "pygments_lexer": "ipython2",
   "version": "2.7.10"
  }
 },
 "nbformat": 4,
 "nbformat_minor": 0
}
