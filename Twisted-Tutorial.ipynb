{
 "cells": [
  {
   "cell_type": "markdown",
   "metadata": {},
   "source": [
    "# Before We Begin\n",
    "\n",
    "You will need:\n",
    "  1. a virtualenv\n",
    "  2. Jupyter notebook running a kernel in that virtualenv\n",
    "  3. Klein and Treq (and therefore Twisted) installed in that kernel\n",
    "\n",
    "To get those:\n",
    "\n",
    "```console\n",
    "$ virtualenv abc\n",
    "$ . abc/bin/activate\n",
    "$ pip install jupyter[notebook] klein treq\n",
    "$ jupyter notebook Twisted-Tutorial.ipynb\n",
    "```\n",
    "\n",
    "TODO:\n",
    "  1. Move all httpbin to https URLs\n",
    "  2. Mention what deferred is\n",
    "  3. Install certifi\n",
    "  4. Show node.js example\n",
    "  5. Put this file in a GitHub repo under Twisted"
   ]
  },
  {
   "cell_type": "code",
   "execution_count": 1,
   "metadata": {
    "collapsed": false
   },
   "outputs": [
    {
     "data": {
      "text/plain": [
       "<Deferred at 0x10b02de60 current result: <<class 'twisted.internet.tcp.Port'> of twisted.web.server.Site on 8080>>"
      ]
     },
     "execution_count": 1,
     "metadata": {},
     "output_type": "execute_result"
    }
   ],
   "source": [
    "from tornado.platform.twisted import install\n",
    "reactor = install()\n",
    "\n",
    "from twisted.web.server import Site\n",
    "from twisted.internet import endpoints\n",
    "from klein import route, resource\n",
    "\n",
    "description = \"tcp:8080\"\n",
    "\n",
    "ep = endpoints.serverFromString(reactor, description)\n",
    "s = Site(resource())\n",
    "ep.listen(Site(resource()))"
   ]
  },
  {
   "cell_type": "code",
   "execution_count": 3,
   "metadata": {
    "collapsed": false
   },
   "outputs": [],
   "source": [
    "from klein import route\n",
    "@route('/')\n",
    "def home(request):\n",
    "    return 'Hello, everybody!'"
   ]
  },
  {
   "cell_type": "code",
   "execution_count": 5,
   "metadata": {
    "collapsed": true
   },
   "outputs": [],
   "source": [
    "@route('/greet/<user>')\n",
    "def froop(request, user):\n",
    "    return 'Hello {}!'.format(user.upper())"
   ]
  },
  {
   "cell_type": "code",
   "execution_count": 6,
   "metadata": {
    "collapsed": false
   },
   "outputs": [],
   "source": [
    "import json\n",
    "from twisted.internet import defer\n",
    "import treq\n",
    "\n",
    "@route('/ip')\n",
    "@defer.inlineCallbacks\n",
    "def getip(request):\n",
    "    url = 'http://httpbin.org/ip'\n",
    "    response = yield treq.get(url)\n",
    "    content = yield response.content()\n",
    "    value = json.loads(content)\n",
    "    ip = value['origin']\n",
    "    defer.returnValue('From {}'.format(ip))"
   ]
  },
  {
   "cell_type": "code",
   "execution_count": 7,
   "metadata": {
    "collapsed": false
   },
   "outputs": [
    {
     "data": {
      "text/plain": [
       "True"
      ]
     },
     "execution_count": 7,
     "metadata": {},
     "output_type": "execute_result"
    }
   ],
   "source": [
    "import webbrowser\n",
    "webbrowser.open(\"http://127.0.0.1:8080/ip\")"
   ]
  },
  {
   "cell_type": "code",
   "execution_count": 8,
   "metadata": {
    "collapsed": false
   },
   "outputs": [],
   "source": [
    "@route('/slow')\n",
    "@defer.inlineCallbacks\n",
    "def slow(request):\n",
    "    url = 'http://httpbin.org/delay/10'\n",
    "    response = yield treq.get(url)\n",
    "    content = yield response.content()\n",
    "    value = json.loads(content)\n",
    "    first_ip = value['origin']\n",
    "    response = yield treq.get(url)\n",
    "    content = yield response.content()\n",
    "    value = json.loads(content)\n",
    "    second_ip = value['origin']    \n",
    "    defer.returnValue('These are the same:{}=={}'.format(first_ip, second_ip))"
   ]
  },
  {
   "cell_type": "code",
   "execution_count": 9,
   "metadata": {
    "collapsed": false
   },
   "outputs": [
    {
     "data": {
      "text/plain": [
       "True"
      ]
     },
     "execution_count": 9,
     "metadata": {},
     "output_type": "execute_result"
    }
   ],
   "source": [
    "webbrowser.open(\"http://127.0.0.1:8080/slow\")"
   ]
  },
  {
   "cell_type": "code",
   "execution_count": 12,
   "metadata": {
    "collapsed": false
   },
   "outputs": [],
   "source": [
    "@route('/less-slow')\n",
    "def less_slow(request):\n",
    "    url = 'http://httpbin.org/delay/10'\n",
    "    d = treq.get(url)\n",
    "    d.addCallback(lambda response: response.content())\n",
    "    d.addCallback(json.loads)\n",
    "    d.addCallback(lambda dct: dct['origin'])\n",
    "    d2 = treq.get(url)\n",
    "    d2.addCallback(lambda response: response.content())\n",
    "    d2.addCallback(json.loads)\n",
    "    d2.addCallback(lambda dct: dct['origin'])\n",
    "    both = defer.gatherResults([d, d2])\n",
    "    def do_format(ips):\n",
    "        first_ip, second_ip = ips\n",
    "        return 'These are the same:{}=={}'.format(first_ip, second_ip)\n",
    "    both.addCallback(do_format)\n",
    "    return both"
   ]
  },
  {
   "cell_type": "code",
   "execution_count": 13,
   "metadata": {
    "collapsed": false
   },
   "outputs": [
    {
     "data": {
      "text/plain": [
       "True"
      ]
     },
     "execution_count": 13,
     "metadata": {},
     "output_type": "execute_result"
    }
   ],
   "source": [
    "webbrowser.open(\"http://127.0.0.1:8080/less-slow\")"
   ]
  },
  {
   "cell_type": "code",
   "execution_count": 14,
   "metadata": {
    "collapsed": false
   },
   "outputs": [],
   "source": [
    "from twisted.internet import task\n",
    "import operator\n",
    "\n",
    "@route('/add/<int:a>/<int:b>')\n",
    "def add(request, a, b):\n",
    "    d = task.deferLater(reactor, 2, operator.add, a, b)\n",
    "    d.addCallback(str)\n",
    "    return d"
   ]
  },
  {
   "cell_type": "code",
   "execution_count": 15,
   "metadata": {
    "collapsed": false
   },
   "outputs": [
    {
     "data": {
      "text/plain": [
       "True"
      ]
     },
     "execution_count": 15,
     "metadata": {},
     "output_type": "execute_result"
    }
   ],
   "source": [
    "webbrowser.open(\"http://127.0.0.1:8080/add/3/4\")"
   ]
  },
  {
   "cell_type": "code",
   "execution_count": 16,
   "metadata": {
    "collapsed": false
   },
   "outputs": [],
   "source": [
    "def remote_add(x, y):\n",
    "    url = 'http://localhost:8080/add'\n",
    "    d = treq.get(url + '/{}/{}'.format(x, y))\n",
    "    d.addCallback(lambda response: response.content())\n",
    "    return d\n",
    "\n",
    "@route('/add4/<int:a>/<int:b>/<int:c>/<int:d>')\n",
    "def add4(request, a, b, c, d):\n",
    "    d = defer.gatherResults([remote_add(a, b), \n",
    "                             remote_add(c, d)])\n",
    "    @d.addCallback\n",
    "    def final_add(results):\n",
    "        x, y = results\n",
    "        return remote_add(x, y)\n",
    "    return d\n",
    "\n",
    "@route('/slow-add4/<int:a>/<int:b>/<int:c>/<int:d>')\n",
    "@defer.inlineCallbacks\n",
    "def slow_add4(request, a, b, c, d):\n",
    "    x = yield remote_add(a, b)\n",
    "    y = yield remote_add(c, d)\n",
    "    res = yield remote_add(x, y)\n",
    "    defer.returnValue(str(res))"
   ]
  },
  {
   "cell_type": "code",
   "execution_count": 17,
   "metadata": {
    "collapsed": false
   },
   "outputs": [
    {
     "data": {
      "text/plain": [
       "True"
      ]
     },
     "execution_count": 17,
     "metadata": {},
     "output_type": "execute_result"
    }
   ],
   "source": [
    "webbrowser.open(\"http://127.0.0.1:8080/add4/3/4/9/14\")\n",
    "webbrowser.open(\"http://127.0.0.1:8080/slow-add4/3/4/9/14\")"
   ]
  },
  {
   "cell_type": "code",
   "execution_count": 18,
   "metadata": {
    "collapsed": true
   },
   "outputs": [],
   "source": [
    "counter = 0\n",
    "@route('/count')\n",
    "def count(request):\n",
    "    global counter\n",
    "    counter += 1\n",
    "    return str(counter)"
   ]
  },
  {
   "cell_type": "code",
   "execution_count": 19,
   "metadata": {
    "collapsed": false
   },
   "outputs": [
    {
     "data": {
      "text/plain": [
       "True"
      ]
     },
     "execution_count": 19,
     "metadata": {},
     "output_type": "execute_result"
    }
   ],
   "source": [
    "webbrowser.open(\"http://127.0.0.1:8080/count\")\n",
    "webbrowser.open(\"http://127.0.0.1:8080/count\")\n",
    "webbrowser.open(\"http://127.0.0.1:8080/count\")"
   ]
  },
  {
   "cell_type": "code",
   "execution_count": 20,
   "metadata": {
    "collapsed": false
   },
   "outputs": [],
   "source": [
    "from twisted.internet import task\n",
    "loops = 0\n",
    "def add_loop():\n",
    "    global loops\n",
    "    loops += 1\n",
    "\n",
    "@route('/loops')\n",
    "def show_loops(request):\n",
    "    return str(loops)\n",
    "\n",
    "lc = task.LoopingCall(add_loop)\n",
    "d = lc.start(5)"
   ]
  },
  {
   "cell_type": "code",
   "execution_count": 21,
   "metadata": {
    "collapsed": false
   },
   "outputs": [
    {
     "data": {
      "text/plain": [
       "<tornado.platform.twisted.TornadoDelayedCall at 0x10b231790>"
      ]
     },
     "execution_count": 21,
     "metadata": {},
     "output_type": "execute_result"
    }
   ],
   "source": [
    "reactor.callLater(6, webbrowser.open, \"http://127.0.0.1:8080/loops\")\n",
    "reactor.callLater(12, webbrowser.open, \"http://127.0.0.1:8080/loops\")"
   ]
  },
  {
   "cell_type": "code",
   "execution_count": 25,
   "metadata": {
    "collapsed": true
   },
   "outputs": [],
   "source": [
    "blocking = []\n",
    "\n",
    "@route('/block')\n",
    "def count(request):\n",
    "    result = defer.Deferred()\n",
    "    blocking.append(result)\n",
    "    result.addCallback(lambda x: x.upper())\n",
    "    return result\n",
    "\n",
    "@route('/unblock/<string:value>')\n",
    "def unblock(request, value):\n",
    "    blocking.pop(0).callback(value)\n",
    "    return u\"OK \" + value"
   ]
  },
  {
   "cell_type": "code",
   "execution_count": 28,
   "metadata": {
    "collapsed": false
   },
   "outputs": [
    {
     "data": {
      "text/plain": [
       "True"
      ]
     },
     "execution_count": 28,
     "metadata": {},
     "output_type": "execute_result"
    }
   ],
   "source": [
    "webbrowser.open(\"http://127.0.0.1:8080/block\")"
   ]
  },
  {
   "cell_type": "code",
   "execution_count": 29,
   "metadata": {
    "collapsed": false
   },
   "outputs": [
    {
     "data": {
      "text/plain": [
       "True"
      ]
     },
     "execution_count": 29,
     "metadata": {},
     "output_type": "execute_result"
    }
   ],
   "source": [
    "webbrowser.open(\"http://127.0.0.1:8080/unblock/hello%20universe\")"
   ]
  },
  {
   "cell_type": "code",
   "execution_count": null,
   "metadata": {
    "collapsed": true
   },
   "outputs": [],
   "source": []
  }
 ],
 "metadata": {
  "kernelspec": {
   "display_name": "Python 2",
   "language": "python",
   "name": "python2"
  },
  "language_info": {
   "codemirror_mode": {
    "name": "ipython",
    "version": 2
   },
   "file_extension": ".py",
   "mimetype": "text/x-python",
   "name": "python",
   "nbconvert_exporter": "python",
   "pygments_lexer": "ipython2",
   "version": "2.7.10"
  }
 },
 "nbformat": 4,
 "nbformat_minor": 1
}